{
 "cells": [
  {
   "cell_type": "markdown",
   "metadata": {},
   "source": [
    "# MAM mean"
   ]
  },
  {
   "cell_type": "code",
   "execution_count": null,
   "metadata": {
    "collapsed": true
   },
   "outputs": [],
   "source": [
    "\"\"\"This script provides a function for the calculation of the MAM mean from given arrays. The module has to be imported \n",
    "to any other script where MAM mean need to be calculated.\"\"\""
   ]
  },
  {
   "cell_type": "code",
   "execution_count": null,
   "metadata": {},
   "outputs": [],
   "source": [
    "#after changes in the script using Jupyter notebook, save, and run this:\n",
    "#get_ipython().system(u'jupyter nbconvert --to=python mam_mean.ipynb')"
   ]
  },
  {
   "cell_type": "code",
   "execution_count": null,
   "metadata": {
    "collapsed": true
   },
   "outputs": [],
   "source": [
    "    def mam_mean(datam):\n",
    "        \"\"\"\n",
    "        this function calculates the MAM mean for a 3d (t,y,x), 2d (t,y,x) \n",
    "        or 1d (t) variable. Assumes that the months go from January-December, so MAM corresponds\n",
    "        to the indices [3,4,5]\n",
    "\n",
    "        \"\"\"\n",
    "        import numpy as np\n",
    "        nn = np.shape(datam)\n",
    "        nt = nn[0]\n",
    "        \n",
    "        dimt = len(nn) #time dimension along which to average!\n",
    "        if dimt ==3:\n",
    "            nx = nn[2]\n",
    "            ny = nn[1]\n",
    "            var_mam_mean = np.nan * np.zeros((int(np.floor(nt/12)), ny, nx))\n",
    "            for t in range(0,int(np.floor(nt/12))):\n",
    "                ind1 = t*12+2\n",
    "                ind2 = t*12+3\n",
    "                ind3 = t*12+4\n",
    "                datamB = datam[[ind1,ind2,ind3],:,:]\n",
    "                var_mam_mean[t,:,:] = np.nanmean(datamB, axis=0)\n",
    "                \n",
    "        elif dimt ==2:\n",
    "            ny = nn[1]\n",
    "            var_mam_mean = np.nan * np.zeros((int(np.floor(nt/12)), ny))\n",
    "            for t in range(0,int(np.floor(nt/12))):\n",
    "                ind1 = t*12+2\n",
    "                ind2 = t*12+3\n",
    "                ind3 = t*12+4\n",
    "                datamB = datam[[ind1,ind2,ind3],:]\n",
    "                var_mam_mean[t,:] = np.nanmean(datamB, axis=0)\n",
    "                \n",
    "        elif dimt ==1:\n",
    "            var_mam_mean = np.nan * np.zeros((int(np.floor(nt/12))))\n",
    "            for t in range(0,int(np.floor(nt/12))):\n",
    "                ind1 = t*12+2\n",
    "                ind2 = t*12+3\n",
    "                ind3 = t*12+4\n",
    "                datamB = datam[[ind1,ind2,ind3]]\n",
    "                var_mam_mean[t] = np.nanmean(datamB, axis=0)\n",
    "        else:\n",
    "            raise ValueError('Input dimensions not suitable.')\n",
    "        return var_mam_mean"
   ]
  },
  {
   "cell_type": "markdown",
   "metadata": {},
   "source": [
    "#test\n",
    "import numpy as np\n",
    "from netCDF4 import Dataset\n",
    "gcb_data = Dataset('../Output/gcb_load.nc')\n",
    "roeden_spco2_1x1 = gcb_data['roeden_spco2_1x1'][:]\n",
    "\n",
    "mean = annualmean(roeden_spco2_1x1)\n",
    "print np.shape(roeden_spco2_1x1), np.shape(mean)"
   ]
  },
  {
   "cell_type": "code",
   "execution_count": null,
   "metadata": {
    "collapsed": true
   },
   "outputs": [],
   "source": []
  }
 ],
 "metadata": {
  "kernelspec": {
   "display_name": "Python 2",
   "language": "python",
   "name": "python2"
  },
  "language_info": {
   "codemirror_mode": {
    "name": "ipython",
    "version": 2
   },
   "file_extension": ".py",
   "mimetype": "text/x-python",
   "name": "python",
   "nbconvert_exporter": "python",
   "pygments_lexer": "ipython2",
   "version": "2.7.14"
  }
 },
 "nbformat": 4,
 "nbformat_minor": 2
}
