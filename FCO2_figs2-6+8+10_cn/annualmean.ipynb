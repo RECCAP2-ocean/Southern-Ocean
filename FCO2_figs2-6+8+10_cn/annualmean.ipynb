{
 "cells": [
  {
   "cell_type": "markdown",
   "metadata": {},
   "source": [
    "# Annual mean"
   ]
  },
  {
   "cell_type": "code",
   "execution_count": null,
   "metadata": {
    "collapsed": true
   },
   "outputs": [],
   "source": [
    "\"\"\"This script provides a function for the calculation of the annual mean from given arrays. The module has to be imported \n",
    "to any other script where annual means need to be calculated. It is used for example in mean_calcs, and the seasonal cycles.\"\"\""
   ]
  },
  {
   "cell_type": "code",
   "execution_count": 3,
   "metadata": {},
   "outputs": [
    {
     "name": "stdout",
     "output_type": "stream",
     "text": [
      "[NbConvertApp] Converting notebook annualmean.ipynb to python\n",
      "[NbConvertApp] Writing 2077 bytes to annualmean.py\n"
     ]
    }
   ],
   "source": [
    "#after changes in the script using Jupyter notebook, save, and run this:\n",
    "#get_ipython().system(u'jupyter nbconvert --to=python annualmean.ipynb')"
   ]
  },
  {
   "cell_type": "code",
   "execution_count": 9,
   "metadata": {
    "collapsed": true
   },
   "outputs": [],
   "source": [
    "    def annualmean(datam):\n",
    "        \"\"\"\n",
    "        this function calculates the annual mean for a 3d (t,y,x), 2d (t,y,x) \n",
    "        or 1d (t) variable.\n",
    "\n",
    "        \"\"\"\n",
    "        import numpy as np\n",
    "        nn = np.shape(datam)\n",
    "        nt = nn[0]\n",
    "        \n",
    "        dimt = len(nn) #time dimension along which to average!\n",
    "        if dimt ==3:\n",
    "            nx = nn[2]\n",
    "            ny = nn[1]\n",
    "            var_annualmean = np.nan * np.zeros((int(np.floor(nt/12)), ny, nx))\n",
    "            for t in range(0,int(np.floor(nt/12))):\n",
    "                ind1 = t*12\n",
    "                ind2 = ind1 + 12\n",
    "                #print ind2\n",
    "                datamB = datam[ind1:ind2,:,:]\n",
    "                var_annualmean[t,:,:] = np.nanmean(datamB, axis=0)\n",
    "                \n",
    "        elif dimt ==2:\n",
    "            ny = nn[1]\n",
    "            var_annualmean = np.nan * np.zeros((int(np.floor(nt/12)), ny))\n",
    "            for t in range(0,int(np.floor(nt/12))):\n",
    "                ind1 = t*12\n",
    "                ind2 = ind1 + 12\n",
    "                datamB = datam[ind1:ind2,:]\n",
    "                var_annualmean[t,:] = np.nanmean(datamB, axis=0)\n",
    "                \n",
    "        elif dimt ==1:\n",
    "            var_annualmean = np.nan * np.zeros((int(np.floor(nt/12))))\n",
    "            for t in range(0,int(np.floor(nt/12))):\n",
    "                ind1 = t*12\n",
    "                ind2 = ind1 + 12\n",
    "                datamB = datam[ind1:ind2]\n",
    "                var_annualmean[t] = np.nanmean(datamB, axis=0)\n",
    "        else:\n",
    "            raise ValueError('Input dimensions not suitable.')\n",
    "        return var_annualmean"
   ]
  },
  {
   "cell_type": "markdown",
   "metadata": {},
   "source": [
    "#test\n",
    "import numpy as np\n",
    "from netCDF4 import Dataset\n",
    "gcb_data = Dataset('../Output/gcb_load.nc')\n",
    "roeden_spco2_1x1 = gcb_data['roeden_spco2_1x1'][:]\n",
    "\n",
    "mean = annualmean(roeden_spco2_1x1)\n",
    "print np.shape(roeden_spco2_1x1), np.shape(mean)"
   ]
  },
  {
   "cell_type": "code",
   "execution_count": null,
   "metadata": {
    "collapsed": true
   },
   "outputs": [],
   "source": []
  }
 ],
 "metadata": {
  "kernelspec": {
   "display_name": "Python 2",
   "language": "python",
   "name": "python2"
  },
  "language_info": {
   "codemirror_mode": {
    "name": "ipython",
    "version": 2
   },
   "file_extension": ".py",
   "mimetype": "text/x-python",
   "name": "python",
   "nbconvert_exporter": "python",
   "pygments_lexer": "ipython2",
   "version": "2.7.14"
  }
 },
 "nbformat": 4,
 "nbformat_minor": 2
}
